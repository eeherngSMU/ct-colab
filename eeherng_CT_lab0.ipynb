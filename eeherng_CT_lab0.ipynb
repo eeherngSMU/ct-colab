{
  "nbformat": 4,
  "nbformat_minor": 0,
  "metadata": {
    "colab": {
      "provenance": [],
      "include_colab_link": true
    },
    "kernelspec": {
      "name": "python3",
      "display_name": "Python 3"
    }
  },
  "cells": [
    {
      "cell_type": "markdown",
      "metadata": {
        "id": "view-in-github",
        "colab_type": "text"
      },
      "source": [
        "<a href=\"https://colab.research.google.com/github/eeherngSMU/ct-colab/blob/main/eeherng_CT_lab0.ipynb\" target=\"_parent\"><img src=\"https://colab.research.google.com/assets/colab-badge.svg\" alt=\"Open In Colab\"/></a>"
      ]
    },
    {
      "cell_type": "markdown",
      "metadata": {
        "id": "zEwE8zxZh7mE"
      },
      "source": [
        "#CT Lab 0: Conditionals and Loops\n",
        "#(aka a Gentle Intro to Python Programming)\n",
        "\n",
        "<b> Due: <font color=\"red\">Wk 2 (We will do this together in class)</font></b> Submit to eLearn.\n",
        "\n",
        "\n",
        "<hr/>\n",
        "\n",
        "# Some Words\n",
        "You will be attempting 5 take-home lab exercises for the first few weeks of this course. Although lab exercises are not graded, a successful submission is mandatory. The objective of these lab exercises is to help students get started on writing Python code – a little at a time – so that students will be prepared to tackle subsequent code-related content for this course (e.g. project).\n",
        "\n",
        "Students should seek help from the TA or instructor if they have difficulty completing these exercises or submitting them to eLearn.\n",
        "\n",
        "Lab 0 is a gentle warm-up exercise that requires students to be familiar with conditionals (`if`/`else`), logical boolean operators (`and`/`or`) and string comparisons.\n",
        "\n",
        "<hr/>\n",
        "\n",
        "#Lab 0(a)\n",
        "Those who frequent pubs and clubs will know that some clubs impose entry requirements. A particular club in Singapore admits only men who are at least 23 years old and ladies who are at least 18 years old.\n",
        "\n",
        "Requirements:\n",
        "* Write a function called admit that takes in 2 arguments:\n",
        "  * sex (\"M\" or \"F\" only)\n",
        "  * age (an integer)\n",
        "and returns True (to admit) or False (not to admit) based on the admission rule.\n",
        "\n",
        "* Your function can assume that the first parameter will always be a string that is \"M\" or \"F\", and that the second parameter will always be an integer.\n",
        "\n",
        "* Edit the body of the `admit` function below to meet the requirements.\n",
        "\n"
      ]
    },
    {
      "cell_type": "code",
      "metadata": {
        "id": "AJ_TZKyHh8Ry"
      },
      "source": [
        "# EXTRACT THIS CODE & SUBMIT AS lab0a.py TO eLearn!!!\n",
        "# Filename: lab0a.py\n",
        "# Name:    <TODO: replace with your name>\n",
        "# Section: <TODO: replace with your section>\n",
        "\n",
        "# All statements should only be in functions. Do not include statements outside functions in this file.\n",
        "\n",
        "def admit(sex,age):\n",
        "  #TODO: Edit this function\n",
        "  return False\n"
      ],
      "execution_count": null,
      "outputs": []
    },
    {
      "cell_type": "markdown",
      "metadata": {
        "id": "wgfcyhb6NPCi"
      },
      "source": [
        "#Test Cases\n",
        "There will be 4 test cases used to evaluate your function.\n",
        "  * Test case 1: admit(\"M\",22)   # should return False\n",
        "  * Test case 2: admit(\"M\",23)   # should return True\n",
        "  * Test case 3: admit(\"F\",17)   # should return False\n",
        "  * Test case 4: admit(\"F\",18)   # should return True\n",
        "\n",
        "Run them below:"
      ]
    },
    {
      "cell_type": "code",
      "metadata": {
        "id": "5CuqEILNeMym"
      },
      "source": [
        "# test case lab0(a)_1\n",
        "if admit(\"M\", 22) == False:\n",
        "  print(\"passed\")\n",
        "else:\n",
        "  print(\"failed\")"
      ],
      "execution_count": null,
      "outputs": []
    },
    {
      "cell_type": "code",
      "metadata": {
        "id": "bxVJV8FWNlNy"
      },
      "source": [
        "# test case lab0(a)_2\n",
        "if admit(\"M\", 23) == True:\n",
        "  print(\"passed\")\n",
        "else:\n",
        "  print(\"failed\")"
      ],
      "execution_count": null,
      "outputs": []
    },
    {
      "cell_type": "code",
      "metadata": {
        "id": "dxorbQoPNlWh"
      },
      "source": [
        "# test case lab0(a)_3\n",
        "if admit(\"F\", 17) == False:\n",
        "  print(\"passed\")\n",
        "else:\n",
        "  print(\"failed\")"
      ],
      "execution_count": null,
      "outputs": []
    },
    {
      "cell_type": "code",
      "metadata": {
        "id": "4ObGRTYpNlfC"
      },
      "source": [
        "# test case lab0(a)_4\n",
        "if admit(\"F\", 18) == True:\n",
        "  print(\"passed\")\n",
        "else:\n",
        "  print(\"failed\")"
      ],
      "execution_count": null,
      "outputs": []
    },
    {
      "cell_type": "markdown",
      "metadata": {
        "id": "CBawLMVehoSK"
      },
      "source": [
        "Ensure that you have passed all 4 test cases before proceeding.\n",
        "\n",
        "To submit: `lab0a.py` to eLearn:\n",
        "* Create a blank text file on your laptop called `lab0a.py`.\n",
        "* Copy the code in `admit` above and paste into `lab0a.py`.\n",
        "* Submit to eLearn\n",
        "\n",
        "Assessment:\n",
        "* This exercise is not graded but submission of a working answer is mandatory.\n",
        "* For this exercise, you should ignore the \"Time Taken\" on the Scoreboard. The Quality Score will always be `1.0` if your solution is correct. So, as long as your team has a valid \"Time Taken\" and \"Quality Score\" on the Scoreboard, your solution is correct.\n"
      ]
    },
    {
      "cell_type": "markdown",
      "metadata": {
        "id": "hOcKdnoEii4m"
      },
      "source": [
        "\n",
        "\n",
        "---\n",
        "#Lab 0(b)\n",
        "\n",
        "The Body Mass Index (BMI) is calculated using this formula:\n",
        "$$\n",
        "\\ BMI = \\frac{weight}{height^2}\n",
        "$$ where weight is in **kg**, and height is in **m**.\n",
        "\n",
        "\n",
        "The weight category is then determined using the following rules:\n",
        "\n",
        "BMI | Category\n",
        "--- | ---\n",
        "<18.5 | underweight\n",
        "18.5-25 | normal\n",
        ">25 | overweight\n",
        "\n",
        "\n",
        "Requirements:\n",
        "*\tWrite a function called weight_category that takes in 2 arguments:\n",
        "  * weight in kg\n",
        "  * height in **cm**\n",
        "\n",
        "* This function returns one of the follow strings: \"underweight\", \"normal\" or \"overweight\". **NOTE: the formula uses height in meters, but the function takes in height in centimeters**\n",
        "\n",
        "* Your function should assume that both values passed in can be either whole numbers or decimal values.\n",
        "\n",
        "Your task:\n",
        "* Edit `weight_category` provided to meet the requirements.\n",
        "\n",
        "\n"
      ]
    },
    {
      "cell_type": "code",
      "metadata": {
        "id": "2ThJamTBlYzO"
      },
      "source": [
        "# EXTRACT THIS CODE & SUBMIT AS lab0b.py TO eLearn!!!\n",
        "# Filename: lab0b.py\n",
        "# Name:    <TODO: replace with your name>\n",
        "# Section: <TODO: replace with your section>\n",
        "\n",
        "# All statements should only be in functions. Do not include statements outside functions in this file.\n",
        "# fill up the weight_category method to return either \"underweight\", \"overweight\" or \"normal\"\n",
        "# depending on the height (in cm) and weight (in kg)\n",
        "\n",
        "def weight_category(weight, height):\n",
        "  #TODO Edit this function\n",
        "  return \"dummy_value\""
      ],
      "execution_count": null,
      "outputs": []
    },
    {
      "cell_type": "markdown",
      "metadata": {
        "id": "6DV5efRTPIFZ"
      },
      "source": [
        "#Test Cases\n",
        "There will be 5 test cases used to evaluate your function:\n",
        "  * Test case 1: weight_category(71, 168)     # should return \"overweight\"\n",
        "  * Test case 2: weight_category(103, 200)   # should return \"overweight\"\n",
        "  * Test case 3: weight_category(25, 100)     # should return \"normal\"\n",
        "  * Test case 4: weight_category(65.3, 171)   # should return \"normal\"\n",
        "  * Test case 5: weight_category(63, 185.1)   # should return \"underweight\"\n",
        "\n",
        "Run them below:"
      ]
    },
    {
      "cell_type": "code",
      "metadata": {
        "id": "yBOsa6Z8liYE"
      },
      "source": [
        "# test case lab0(b)_1\n",
        "if weight_category(71, 168) == \"overweight\":\n",
        "  print(\"passed\")\n",
        "else:\n",
        "  print(\"failed\")"
      ],
      "execution_count": null,
      "outputs": []
    },
    {
      "cell_type": "code",
      "metadata": {
        "id": "luTsLAjkPs4f"
      },
      "source": [
        "# test case lab0(b)_2\n",
        "if weight_category(103, 200) == \"overweight\":\n",
        "  print(\"passed\")\n",
        "else:\n",
        "  print(\"failed\")"
      ],
      "execution_count": null,
      "outputs": []
    },
    {
      "cell_type": "code",
      "metadata": {
        "id": "7JXLNdXcPtBW"
      },
      "source": [
        "# test case lab0(b)_3\n",
        "if weight_category(25, 100) == \"normal\":\n",
        "  print(\"passed\")\n",
        "else:\n",
        "  print(\"failed\")"
      ],
      "execution_count": null,
      "outputs": []
    },
    {
      "cell_type": "code",
      "metadata": {
        "id": "x4gGXA7VPtKM"
      },
      "source": [
        "# test case lab0(b)_4\n",
        "if weight_category(65.3, 171) == \"normal\":\n",
        "  print(\"passed\")\n",
        "else:\n",
        "  print(\"failed\")"
      ],
      "execution_count": null,
      "outputs": []
    },
    {
      "cell_type": "code",
      "metadata": {
        "id": "L-5xhtJSPtS8"
      },
      "source": [
        "# test case lab0(b)_5\n",
        "if weight_category(63, 185.1) == \"underweight\":\n",
        "  print(\"passed\")\n",
        "else:\n",
        "  print(\"failed\")"
      ],
      "execution_count": null,
      "outputs": []
    },
    {
      "cell_type": "markdown",
      "metadata": {
        "id": "Uuvx-rNElZhi"
      },
      "source": [
        "To submit:\n",
        "* `lab0b.py` to eLearn\n",
        "\n",
        "Assessment:\n",
        "* As for part (a).\n",
        "\n",
        "<hr/>\n",
        "~END"
      ]
    }
  ]
}